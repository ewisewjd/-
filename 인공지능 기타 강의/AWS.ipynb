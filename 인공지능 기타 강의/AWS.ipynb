{
 "cells": [
  {
   "cell_type": "code",
   "execution_count": 1,
   "id": "2682cde6",
   "metadata": {
    "collapsed": true
   },
   "outputs": [
    {
     "name": "stdout",
     "output_type": "stream",
     "text": [
      "Requirement already satisfied: boto3 in c:\\users\\ai\\anaconda3\\lib\\site-packages (1.21.32)\n",
      "Requirement already satisfied: botocore<1.25.0,>=1.24.32 in c:\\users\\ai\\anaconda3\\lib\\site-packages (from boto3) (1.24.32)\n",
      "Requirement already satisfied: s3transfer<0.6.0,>=0.5.0 in c:\\users\\ai\\anaconda3\\lib\\site-packages (from boto3) (0.5.0)\n",
      "Requirement already satisfied: jmespath<2.0.0,>=0.7.1 in c:\\users\\ai\\anaconda3\\lib\\site-packages (from boto3) (0.10.0)\n",
      "Requirement already satisfied: python-dateutil<3.0.0,>=2.1 in c:\\users\\ai\\anaconda3\\lib\\site-packages (from botocore<1.25.0,>=1.24.32->boto3) (2.8.2)\n",
      "Requirement already satisfied: urllib3<1.27,>=1.25.4 in c:\\users\\ai\\anaconda3\\lib\\site-packages (from botocore<1.25.0,>=1.24.32->boto3) (1.26.9)\n",
      "Requirement already satisfied: six>=1.5 in c:\\users\\ai\\anaconda3\\lib\\site-packages (from python-dateutil<3.0.0,>=2.1->botocore<1.25.0,>=1.24.32->boto3) (1.16.0)\n"
     ]
    }
   ],
   "source": [
    "!pip3 install boto3"
   ]
  },
  {
   "cell_type": "code",
   "execution_count": 45,
   "id": "bffbe81f",
   "metadata": {},
   "outputs": [
    {
     "name": "stdout",
     "output_type": "stream",
     "text": [
      "Detected labels in dog.jpg\n",
      "강아지일 확률은 97.84%입니다\n",
      "Labels detected: None\n"
     ]
    }
   ],
   "source": [
    "#Copyright 2018 Amazon.com, Inc. or its affiliates. All Rights Reserved.\n",
    "#PDX-License-Identifier: MIT-0 (For details, see https://github.com/awsdocs/amazon-rekognition-developer-guide/blob/master/LICENSE-SAMPLECODE.)\n",
    "import boto3\n",
    "def detect_labels_local_file(photo):\n",
    "    client=boto3.client('rekognition')\n",
    "    with open(photo, 'rb') as image:\n",
    "        response = client.detect_labels(Image={'Bytes': image.read()})\n",
    "    print('Detected labels in ' + photo)\n",
    "    #print(response)\n",
    "    \n",
    "    check=True  \n",
    "\n",
    "    for label in response['Labels']:\n",
    "        \n",
    "        if label['Name']== 'Dog': \n",
    "            print('강아지일 확률은 {:.2f}%입니다'.format(label['Confidence']))\n",
    "        #print (label['Name'] + ' : ' + str(label['Confidence']))\n",
    "            check= False    \n",
    "       \n",
    "        \n",
    "        # 강아지가 아닌 사진을 넣었을 때 (즉, label중에 'dog'가 없을때 )\n",
    "        #' 강아지가 아닙니다.' 출력\n",
    "    if check:\n",
    "        print('강아지가 아닙니다.')\n",
    "        return len(response['Labels'])\n",
    "\n",
    "def main():\n",
    "    photo='dog.jpg'\n",
    "    label_count=detect_labels_local_file(photo)\n",
    "    print(\"Labels detected: \" + str(label_count))\n",
    "\n",
    "#파이썬 안쪽에 내장되어있는 __name__ 함수를 불러서 \"__main__\"를 실행함\n",
    "#내가 직접 실행했을 경우에만 메인함수를 실행한다. 위기대처방안\n",
    "\n",
    "if __name__ == \"__main__\":\n",
    "    main()\n",
    "    "
   ]
  },
  {
   "cell_type": "code",
   "execution_count": 61,
   "id": "ce38181e",
   "metadata": {
    "scrolled": false
   },
   "outputs": [
    {
     "name": "stdout",
     "output_type": "stream",
     "text": [
      "Detected labels in dog.jpg\n",
      "강아지일 확률은 97.84%입니다\n",
      "Labels detected: 8\n"
     ]
    }
   ],
   "source": [
    "# 정협씨 코드 \n",
    "import boto3\n",
    "n=0\n",
    "def detect_labels_local_file(photo):\n",
    "    client=boto3.client('rekognition')\n",
    "    with open(photo, 'rb') as image:\n",
    "        response = client.detect_labels(Image={'Bytes': image.read()})\n",
    "    print('Detected labels in ' + photo)\n",
    "    for label in response['Labels']:\n",
    "        if label['Name'] == 'Dog':\n",
    "            print('강아지일 확률은 {:.2f}%입니다'.format(label['Confidence']))\n",
    "        #print (label['Name'] + ' : ' + str(label['Confidence']))\n",
    "        else:\n",
    "            global n\n",
    "            n += 1\n",
    "            \n",
    "    if n == len(response['Labels']):\n",
    "        print('강아지가 아닙니다')\n",
    "    return len(response['Labels'])\n",
    "\n",
    "def main():\n",
    "    photo='dog.jpg'\n",
    "    label_count=detect_labels_local_file(photo)\n",
    "    print(\"Labels detected: \" + str(label_count))\n",
    "if __name__ == \"__main__\":\n",
    "    main()"
   ]
  },
  {
   "cell_type": "code",
   "execution_count": 39,
   "id": "46a3603e",
   "metadata": {
    "scrolled": true
   },
   "outputs": [
    {
     "name": "stdout",
     "output_type": "stream",
     "text": [
      " 동일 인물일 확률은 1.00%입니다.\n",
      "The face at 0.37512511014938354 0.16313226521015167 matches with 0.9984018206596375% confidence\n",
      "Face matches: 1\n"
     ]
    }
   ],
   "source": [
    "#Copyright 2018 Amazon.com, Inc. or its affiliates. All Rights Reserved.\n",
    "#PDX-License-Identifier: MIT-0 (For details, see https://github.com/awsdocs/amazon-rekognition-developer-guide/blob/master/LICENSE-SAMPLECODE.)\n",
    "import boto3\n",
    "def compare_faces(sourceFile, targetFile):\n",
    "    client=boto3.client('rekognition')\n",
    "    imageSource=open(sourceFile,'rb')\n",
    "    imageTarget=open(targetFile,'rb')\n",
    "    response=client.compare_faces(SimilarityThreshold=0,\n",
    "                                  SourceImage={'Bytes': imageSource.read()},\n",
    "                                  TargetImage={'Bytes': imageTarget.read()})\n",
    "    for faceMatch in response['FaceMatches']:\n",
    "        position = faceMatch['Face']['BoundingBox'] \n",
    "        print(' 동일 인물일 확률은 {:.2f}%입니다.'.format(faceMatch['Similarity']))\n",
    "        similarity = str(faceMatch['Similarity'])\n",
    "       \n",
    "        print('The face at ' +\n",
    "               str(position['Left']) + ' ' +\n",
    "               str(position['Top']) +\n",
    "               ' matches with ' + similarity + '% confidence')\n",
    "        \n",
    "    \n",
    "    imageSource.close()\n",
    "    imageTarget.close()\n",
    "    return len(response['FaceMatches'])\n",
    "\n",
    "def main():\n",
    "    source_file='na.jpg'\n",
    "    target_file='iu2.jpg'\n",
    "    face_matches=compare_faces(source_file, target_file)\n",
    "    print(\"Face matches: \" + str(face_matches))\n",
    "\n",
    "if __name__ == \"__main__\":\n",
    "    main()"
   ]
  },
  {
   "cell_type": "code",
   "execution_count": 36,
   "id": "f4b14de1",
   "metadata": {},
   "outputs": [
    {
     "name": "stdout",
     "output_type": "stream",
     "text": [
      "Detected faces for 나.jpg\n",
      "Celebrities detected: 0\n"
     ]
    }
   ],
   "source": [
    "#Copyright 2018 Amazon.com, Inc. or its affiliates. All Rights Reserved.\n",
    "#PDX-License-Identifier: MIT-0 (For details, see https://github.com/awsdocs/amazon-rekognition-developer-guide/blob/master/LICENSE-SAMPLECODE.)\n",
    "import boto3\n",
    "import json\n",
    "def recognize_celebrities(photo):\n",
    "    client=boto3.client('rekognition')\n",
    "    with open(photo, 'rb') as image:\n",
    "        response = client.recognize_celebrities(Image={'Bytes': image.read()})\n",
    "    print('Detected faces for ' + photo)\n",
    "    for celebrity in response['CelebrityFaces']:\n",
    "        print ('Name: ' + celebrity['Name'])\n",
    "    return len(response['CelebrityFaces'])\n",
    "def main():\n",
    "    photo='나.jpg'\n",
    "    celeb_count=recognize_celebrities(photo)\n",
    "    print(\"Celebrities detected: \" + str(celeb_count))\n",
    "if __name__ == \"__main__\":\n",
    "    main()"
   ]
  },
  {
   "cell_type": "code",
   "execution_count": 40,
   "id": "35cbaf23",
   "metadata": {},
   "outputs": [
    {
     "name": "stdout",
     "output_type": "stream",
     "text": [
      "Detected faces for na.jpg\n",
      "The detected face is between 16 and 22 years old\n",
      "Gender: {'Value': 'Male', 'Confidence': 99.7953872680664}\n",
      "Smile: {'Value': False, 'Confidence': 91.7862319946289}\n",
      "Eyeglasses: {'Value': True, 'Confidence': 99.99999237060547}\n",
      "Emotions: {'Type': 'CALM', 'Confidence': 96.20946502685547}\n",
      "Faces detected: 1\n"
     ]
    }
   ],
   "source": [
    "#Copyright 2018 Amazon.com, Inc. or its affiliates. All Rights Reserved.\n",
    "#PDX-License-Identifier: MIT-0 (For details, see https://github.com/awsdocs/amazon-rekognition-developer-guide/blob/master/LICENSE-SAMPLECODE.)\n",
    "import boto3\n",
    "import json\n",
    "def detect_faces(photo):\n",
    "    client=boto3.client('rekognition')\n",
    "    with open(photo, 'rb') as image:\n",
    "        response = client.detect_faces(Image={'Bytes': image.read()},Attributes=['ALL'])\n",
    "    print('Detected faces for ' + photo)\n",
    "    for faceDetail in response['FaceDetails']:\n",
    "        print('The detected face is between ' + str(faceDetail['AgeRange']['Low'])\n",
    "              + ' and ' + str(faceDetail['AgeRange']['High']) + ' years old')\n",
    "\t\t# Access predictions for individual face details and print them\n",
    "        print(\"Gender: \" + str(faceDetail['Gender']))\n",
    "        print(\"Smile: \" + str(faceDetail['Smile']))\n",
    "        print(\"Eyeglasses: \" + str(faceDetail['Eyeglasses']))\n",
    "        print(\"Emotions: \" + str(faceDetail['Emotions'][0]))\n",
    "    return len(response['FaceDetails'])\n",
    "def main():\n",
    "    photo='na.jpg'\n",
    "    face_count=detect_faces(photo)\n",
    "    print(\"Faces detected: \" + str(face_count))\n",
    "if __name__ == \"__main__\":\n",
    "    main()"
   ]
  },
  {
   "cell_type": "code",
   "execution_count": 49,
   "id": "e585cf82",
   "metadata": {},
   "outputs": [
    {
     "name": "stdout",
     "output_type": "stream",
     "text": [
      "Detected faces for iu2.jpg\n",
      "Name: IU\n",
      "확률은 99.16%입니다\n",
      "Celebrities detected: 1\n"
     ]
    }
   ],
   "source": [
    "#Copyright 2018 Amazon.com, Inc. or its affiliates. All Rights Reserved.\n",
    "#PDX-License-Identifier: MIT-0 (For details, see https://github.com/awsdocs/amazon-rekognition-developer-guide/blob/master/LICENSE-SAMPLECODE.)\n",
    "import boto3\n",
    "import json\n",
    "def recognize_celebrities(photo):\n",
    "    client=boto3.client('rekognition')\n",
    "    with open(photo, 'rb') as image:\n",
    "        response = client.recognize_celebrities(Image={'Bytes': image.read()})\n",
    "#     print(response)\n",
    "    print('Detected faces for ' + photo)\n",
    "    for celebrity in response['CelebrityFaces']:\n",
    "        print ('Name: ' + celebrity['Name'])\n",
    "        print('확률은 {:.2f}%입니다'.format(celebrity['MatchConfidence']))\n",
    "    return len(response['CelebrityFaces'])\n",
    "def main():\n",
    "    photo='iu2.jpg'\n",
    "    celeb_count=recognize_celebrities(photo)\n",
    "    print(\"Celebrities detected: \" + str(celeb_count))\n",
    "if __name__ == \"__main__\":\n",
    "    main()"
   ]
  },
  {
   "cell_type": "code",
   "execution_count": null,
   "id": "03f38993",
   "metadata": {},
   "outputs": [],
   "source": []
  }
 ],
 "metadata": {
  "kernelspec": {
   "display_name": "Python 3 (ipykernel)",
   "language": "python",
   "name": "python3"
  },
  "language_info": {
   "codemirror_mode": {
    "name": "ipython",
    "version": 3
   },
   "file_extension": ".py",
   "mimetype": "text/x-python",
   "name": "python",
   "nbconvert_exporter": "python",
   "pygments_lexer": "ipython3",
   "version": "3.9.12"
  },
  "toc": {
   "base_numbering": 1,
   "nav_menu": {},
   "number_sections": true,
   "sideBar": true,
   "skip_h1_title": false,
   "title_cell": "Table of Contents",
   "title_sidebar": "Contents",
   "toc_cell": false,
   "toc_position": {},
   "toc_section_display": true,
   "toc_window_display": false
  }
 },
 "nbformat": 4,
 "nbformat_minor": 5
}
