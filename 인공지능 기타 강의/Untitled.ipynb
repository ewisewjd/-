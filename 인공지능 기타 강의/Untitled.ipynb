{
 "cells": [
  {
   "cell_type": "code",
   "execution_count": null,
   "id": "948e8bcb",
   "metadata": {},
   "outputs": [],
   "source": [
    "import RPi.GPIO as gp\n",
    "import time \n",
    "\n",
    "led_blue_pin=23 # board pin 12, bcm pin 23\n",
    "led_gteen_pin= 24\n",
    "\n",
    "gp.setmode(gp.BCM)\n",
    "gp.setup(led_blue_pin, gp.OUT, initial=gp.HIGH)\n",
    "gp.setup(led_green_pin,gp.OUT, initial=gp.HIGH)\n",
    "\n",
    "blink= gp.HGIH\n",
    "\n",
    "try:\n",
    "    while True:\n",
    "        blink= blink ^ gp.HIGH\n",
    "        gp.output(led)\n",
    "        \n",
    "        gp.output(led_blue_pin,blink)\n",
    "        #gp.output(led_green_pin,gp.LOW)\n",
    "        time.sleep(1)\n",
    "        \n",
    "        gp.output(led_blue_pin,gp.HIGH)\n",
    "        gp.output(led_green_pin,gp.HIGH)\n",
    "        time.sleep(1)\n",
    "        \n",
    "finally:\n",
    "    gp.cleanup()"
   ]
  },
  {
   "cell_type": "code",
   "execution_count": 5,
   "id": "913aeb30",
   "metadata": {},
   "outputs": [
    {
     "name": "stdout",
     "output_type": "stream",
     "text": [
      "0b1010\n",
      "0b1000\n",
      "0b1000\n",
      "0b1010\n",
      "0b10\n"
     ]
    }
   ],
   "source": [
    "num1= 10\n",
    "print(bin(num1))\n",
    "\n",
    "num2=8\n",
    "print(bin(num2))\n",
    "\n",
    "print(bin(num1 & num2))\n",
    "print(bin(num1 | num2))\n",
    "print(bin(num1 ^num2))"
   ]
  },
  {
   "cell_type": "markdown",
   "id": "4ac0ec2a",
   "metadata": {},
   "source": [
    "- 비트연산은 크게 3가지가 있다 \n",
    "    - and, or , xor"
   ]
  },
  {
   "cell_type": "code",
   "execution_count": null,
   "id": "bee927b6",
   "metadata": {},
   "outputs": [],
   "source": [
    "import RPi.GPIO as gp\n",
    "import time\n",
    "led_blue_pin = 23 # BOARD pin 12, BCM pin 23\n",
    "led_green_pin = 24\n",
    "gp.setmode(gp.BCM)\n",
    "gp.setup(led_blue_pin, gp.OUT, initial=gp.HIGH)\n",
    "gp.setup(led_green_pin, gp.OUT, initial=gp.HIGH)\n",
    "blink = gp.HIGH\n",
    "try:\n",
    "    while True:\n",
    "        blink = blink ^ gp.HIGH\n",
    "        gp.output(led_blue_pin, blink)\n",
    "        gp.output(led_green_pin, blink)\n",
    "        time.sleep(1)\n",
    "finally:\n",
    "    gp.cleanup()"
   ]
  },
  {
   "cell_type": "markdown",
   "id": "59db8097",
   "metadata": {},
   "source": [
    "jetbot 비밀번호 : yahboom\n",
    "무선 인터넷\n",
    "ID : aischool 06(2.4Ghz)\n",
    "비밀번호 : gjaischool"
   ]
  },
  {
   "cell_type": "code",
   "execution_count": 6,
   "id": "4592a1d2",
   "metadata": {},
   "outputs": [
    {
     "ename": "ModuleNotFoundError",
     "evalue": "No module named 'RPi'",
     "output_type": "error",
     "traceback": [
      "\u001b[1;31m---------------------------------------------------------------------------\u001b[0m",
      "\u001b[1;31mModuleNotFoundError\u001b[0m                       Traceback (most recent call last)",
      "Input \u001b[1;32mIn [6]\u001b[0m, in \u001b[0;36m<cell line: 1>\u001b[1;34m()\u001b[0m\n\u001b[1;32m----> 1\u001b[0m \u001b[38;5;28;01mimport\u001b[39;00m \u001b[38;5;21;01mRPi\u001b[39;00m\u001b[38;5;21;01m.\u001b[39;00m\u001b[38;5;21;01mGPIO\u001b[39;00m \u001b[38;5;28;01mas\u001b[39;00m \u001b[38;5;21;01mgp\u001b[39;00m\n\u001b[0;32m      2\u001b[0m \u001b[38;5;28;01mimport\u001b[39;00m \u001b[38;5;21;01mtime\u001b[39;00m \n\u001b[0;32m      4\u001b[0m led_blue_pin\u001b[38;5;241m=\u001b[39m\u001b[38;5;241m23\u001b[39m\n",
      "\u001b[1;31mModuleNotFoundError\u001b[0m: No module named 'RPi'"
     ]
    }
   ],
   "source": [
    "import RPi.GPIO as gp\n",
    "import time \n",
    "\n",
    "led_blue_pin=23\n",
    "btn1=8 #k1 button\n",
    "btn2=7 #k2 button\n",
    "\n",
    "gp.setmode(gp.BCM)\n",
    "gp.setup(led_blue_pin,gp.OUT,initial=gp.HIGH)\n",
    "gp.setup(btn1, gp.IN)\n",
    "\n",
    "try:\n",
    "    while True:\n",
    "        btnState=gp.input(btn1) #누르지 않았을 때 1, 눌렀을때 0\n",
    "        btnState2=gp.input(btn2)\n",
    "        gp.output(led_blue_pin, btnState)\n",
    "        gp.output(led_green_pin,btnState2)\n",
    "        \n",
    "        #print(btnState)\n",
    "        time.sleep(0.3)\n",
    "        \n",
    "finally:\n",
    "    gp.cleanup()"
   ]
  },
  {
   "cell_type": "code",
   "execution_count": null,
   "id": "00819042",
   "metadata": {},
   "outputs": [],
   "source": [
    "led_blue_pin = 23 # BOARD pin 12, BCM pin 23\n",
    "\n",
    "buzzer=6\n",
    "gp.setmode(gp.BCM)\n",
    "gp.setup(led_blue_pin, gp.OUT, initial=gp.HIGH)\n",
    "gp.setup(buzzer, gp.OUT, initial=gp.HIGH)\n",
    "\n",
    "blink = gp.HIGH\n",
    "\n",
    "try:\n",
    "    while True:\n",
    "        blink ^= gp.HIGH\n",
    "        gp.output(buzzer, blink)\n",
    "   \n",
    "        time.sleep(1)\n",
    "finally:\n",
    "    gp.cleanup()"
   ]
  }
 ],
 "metadata": {
  "kernelspec": {
   "display_name": "Python 3 (ipykernel)",
   "language": "python",
   "name": "python3"
  },
  "language_info": {
   "codemirror_mode": {
    "name": "ipython",
    "version": 3
   },
   "file_extension": ".py",
   "mimetype": "text/x-python",
   "name": "python",
   "nbconvert_exporter": "python",
   "pygments_lexer": "ipython3",
   "version": "3.9.12"
  },
  "toc": {
   "base_numbering": 1,
   "nav_menu": {},
   "number_sections": true,
   "sideBar": true,
   "skip_h1_title": false,
   "title_cell": "Table of Contents",
   "title_sidebar": "Contents",
   "toc_cell": false,
   "toc_position": {},
   "toc_section_display": true,
   "toc_window_display": false
  }
 },
 "nbformat": 4,
 "nbformat_minor": 5
}
