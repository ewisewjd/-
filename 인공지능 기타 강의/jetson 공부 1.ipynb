{
 "cells": [
  {
   "cell_type": "markdown",
   "id": "492ae9cc",
   "metadata": {},
   "source": [
    "# 재귀함수"
   ]
  },
  {
   "cell_type": "markdown",
   "id": "d9bddd45",
   "metadata": {},
   "source": [
    "피보나치 수열 \n",
    "\n",
    "등차 수열과 등비 수열\n",
    "\n",
    "- 피보나치 수열\n",
    "    - 앞과 뒤에 숫자를 합쳐서 나오는 숫자\n",
    "    - 피보나치 수열은 첫번째 두번째 항은 1이다.\n",
    "hang(1) # 1\n"
   ]
  },
  {
   "cell_type": "code",
   "execution_count": 1,
   "id": "16d181b5",
   "metadata": {},
   "outputs": [],
   "source": [
    "def fibo(hang):\n",
    "    if hang==1:\n",
    "        return 1\n",
    "    elif hang==2:\n",
    "        return 1\n",
    "    else:\n",
    "        return fibo(hang-2)+fibo(hang-1)\n",
    "    "
   ]
  },
  {
   "cell_type": "code",
   "execution_count": 2,
   "id": "c8e2a497",
   "metadata": {},
   "outputs": [
    {
     "data": {
      "text/plain": [
       "6765"
      ]
     },
     "execution_count": 2,
     "metadata": {},
     "output_type": "execute_result"
    }
   ],
   "source": [
    "fibo(20)"
   ]
  },
  {
   "cell_type": "code",
   "execution_count": null,
   "id": "4bb290de",
   "metadata": {},
   "outputs": [],
   "source": [
    "def fibo(hang):\n",
    "    if hang<=2:\n",
    "        return 1\n",
    "    else:\n",
    "        return fibo(hang-2)+fibo(hang-1)\n",
    "    "
   ]
  },
  {
   "cell_type": "markdown",
   "id": "6f468f48",
   "metadata": {},
   "source": [
    "상민 수열 정의\n",
    "\n",
    "7 8 56 448 ???\n",
    "앞선 두 항을 곱한 값\n",
    "\n",
    "상민 수열의 10번째 값을 구해주세요\n",
    "\n"
   ]
  },
  {
   "cell_type": "code",
   "execution_count": 4,
   "id": "789fdfc4",
   "metadata": {},
   "outputs": [],
   "source": [
    "def sangmin(hang):\n",
    "    if hang==1:\n",
    "        return 7\n",
    "    elif hang==2:\n",
    "        return 8\n",
    "    \n",
    "    else:\n",
    "        return sangmin(hang-2)*sangmin(hang-1)"
   ]
  },
  {
   "cell_type": "code",
   "execution_count": 5,
   "id": "b3233086",
   "metadata": {},
   "outputs": [
    {
     "data": {
      "text/plain": [
       "2832163999440680038848564176280658420389828886528"
      ]
     },
     "execution_count": 5,
     "metadata": {},
     "output_type": "execute_result"
    }
   ],
   "source": [
    "len(str(sangmin(10))"
   ]
  },
  {
   "cell_type": "code",
   "execution_count": null,
   "id": "c780699d",
   "metadata": {},
   "outputs": [],
   "source": []
  }
 ],
 "metadata": {
  "kernelspec": {
   "display_name": "Python 3 (ipykernel)",
   "language": "python",
   "name": "python3"
  },
  "language_info": {
   "codemirror_mode": {
    "name": "ipython",
    "version": 3
   },
   "file_extension": ".py",
   "mimetype": "text/x-python",
   "name": "python",
   "nbconvert_exporter": "python",
   "pygments_lexer": "ipython3",
   "version": "3.9.12"
  },
  "toc": {
   "base_numbering": 1,
   "nav_menu": {},
   "number_sections": true,
   "sideBar": true,
   "skip_h1_title": false,
   "title_cell": "Table of Contents",
   "title_sidebar": "Contents",
   "toc_cell": false,
   "toc_position": {},
   "toc_section_display": true,
   "toc_window_display": false
  }
 },
 "nbformat": 4,
 "nbformat_minor": 5
}
